{
 "cells": [
  {
   "attachments": {},
   "cell_type": "markdown",
   "metadata": {},
   "source": [
    "# Generate images of wave"
   ]
  },
  {
   "cell_type": "code",
   "execution_count": null,
   "metadata": {},
   "outputs": [],
   "source": [
    "import matplotlib.pyplot as plt\n",
    "import numpy as np\n",
    "import matplotlib.tri as mtri\n",
    "from matplotlib.streamplot import streamplot\n",
    "# Example data\n",
    "start_time = '63'\n",
    "N_output = 10\n",
    "quantity = [\\\n",
    "'$x$',\\\n",
    "'$y$',\\\n",
    "'$u$',\\\n",
    "'$v$',\\\n",
    "'$w$ ',\\\n",
    "'$f$  ',\\\n",
    "'$p$  ',\\\n",
    "'$\\omega$',\\\n",
    "]\n",
    "for i in range(488):\n",
    "  i = i*2 +24\n",
    "  data = np.loadtxt('./Line/X' + start_time +'.' + str(i).zfill(3) +'s.txt', skiprows=1)\n",
    "  x  = data[:, 0]\n",
    "  y  = data[:, 1]\n",
    "  ux = data[:, 2]\n",
    "  uy = data[:, 3]\n",
    "  uz = data[:, 4]\n",
    "  f  = data[:, 5]\n",
    "  p  = data[:, 6]\n",
    "  vor  = data[:, 7]\n",
    "\n",
    "  # Create a triangulation of the data points\n",
    "  # Setting up the plot\n",
    "  fig = plt.figure('plot', figsize=(9, 4))  # Adjust figsize for desired aspect ratio\n",
    "  levels = np.linspace(-400, 1000, 50)\n",
    "  triang = mtri.Triangulation(x, y)\n",
    "\n",
    "  # Create contour plot\n",
    "  contour = plt.tricontourf(triang, vor, cmap='twilight_shifted',levels=levels)\n",
    "\n",
    "  # Colorbar formatting\n",
    "  cbar = plt.colorbar(contour, orientation='horizontal', shrink=0.75)  # Set shrink value to reduce width\n",
    "\n",
    "  cbar.set_label('$\\omega_z$',fontsize=14)\n",
    "  # Apply a mask to keep values within the desired range\n",
    "  mask = (f > 0.25) & (f < 0.75)\n",
    "  x = x[mask]\n",
    "  y = y[mask]\n",
    "  f = f[mask]\n",
    "\n",
    "  plt.scatter(x, y, c='k', cmap='viridis', s=0.1, facecolor='k', marker ='s')\n",
    "  # Axis labels and formatting\n",
    "  plt.title(\"$t=$\"+ start_time +'.'+ str(i).zfill(3) + \" s\",fontsize=14)\n",
    "  plt.xlabel(r'$x$', fontsize=14)\n",
    "  plt.ylabel(r'$y$', fontsize=14)\n",
    "\n",
    "  # Set aspect ratio and remove excess whitespace\n",
    "  ax = plt.gca()  # Get the current axes instance\n",
    "  ax.set_aspect('equal', 'box')  # Set the aspect ratio\n",
    "  plt.subplots_adjust(top=0.9)\n",
    "  ax.set_ylim([-0.05,0.05])\n",
    "  ax.set_xlim([0,0.4])\n",
    "  plt.tight_layout()\n",
    "\n",
    "  # Use LaTeX formatting for fonts\n",
    "  plt.rc('text', usetex=False)\n",
    "  plt.rc('font', family='serif')\n",
    "\n",
    "  # Save the plot\n",
    "  plt.savefig('flash/new_contour_'+start_time +'.'+ str(i).zfill(3) + '.png',dpi=400)\n",
    "  plt.cla()\n",
    "  plt.clf()\n"
   ]
  },
  {
   "attachments": {},
   "cell_type": "markdown",
   "metadata": {},
   "source": [
    "# Generate Gif file with above images"
   ]
  },
  {
   "cell_type": "code",
   "execution_count": 10,
   "metadata": {},
   "outputs": [
    {
     "name": "stderr",
     "output_type": "stream",
     "text": [
      "d:\\app\\ANACONDA\\envs\\OD\\lib\\site-packages\\ipykernel_launcher.py:6: DeprecationWarning: Starting with ImageIO v3 the behavior of this function will switch to that of iio.v3.imread. To keep the current behavior (and make this warning disappear) use `import imageio.v2 as imageio` or call `imageio.v2.imread` directly.\n",
      "  \n"
     ]
    }
   ],
   "source": [
    "import imageio\n",
    "import os\n",
    "img_paths =os.listdir('./flash')\n",
    "gif_images = []\n",
    "for path in img_paths:\n",
    "    gif_images.append(imageio.imread('./flash/'+path))\n",
    "imageio.mimsave(\"test.gif\",gif_images,duration=3)"
   ]
  }
 ],
 "metadata": {
  "kernelspec": {
   "display_name": "base",
   "language": "python",
   "name": "python3"
  },
  "language_info": {
   "codemirror_mode": {
    "name": "ipython",
    "version": 3
   },
   "file_extension": ".py",
   "mimetype": "text/x-python",
   "name": "python",
   "nbconvert_exporter": "python",
   "pygments_lexer": "ipython3",
   "version": "3.7.12"
  },
  "orig_nbformat": 4,
  "vscode": {
   "interpreter": {
    "hash": "521169d082a0d54c0d33c5454a578570f88629b843ef6aa03a6afb5627d4f324"
   }
  }
 },
 "nbformat": 4,
 "nbformat_minor": 2
}
