{
 "cells": [
  {
   "cell_type": "code",
   "execution_count": null,
   "metadata": {},
   "outputs": [],
   "source": [
    "%matplotlib inline\n",
    "\n",
    "import matplotlib.pyplot as plt \n",
    "import numpy as np\n"
   ]
  },
  {
   "cell_type": "code",
   "execution_count": null,
   "metadata": {},
   "outputs": [],
   "source": [
    "miu_air = 1.48e-5\n",
    "miu_water = 1e-3\n",
    "rho_air = 1\n",
    "rho_water = 1000\n",
    "K_p = -5E-3\n",
    "h = 0.1"
   ]
  },
  {
   "cell_type": "code",
   "execution_count": 36,
   "metadata": {},
   "outputs": [],
   "source": [
    "A1 = -K_p/4*h * ((3*miu_water/miu_air+1)/(miu_air+miu_water))\n",
    "A2 = -K_p/4*h * ((3+miu_air/miu_water)/(miu_air+miu_water))\n",
    "B1 =  K_p/4*h*h * (((3*miu_water/miu_air+1)/(miu_air+miu_water)) - 2/miu_air)\n",
    "#B2 = 0\n",
    "C1 = K_p/miu_air\n",
    "C2 = K_p/miu_water"
   ]
  },
  {
   "cell_type": "code",
   "execution_count": 37,
   "metadata": {},
   "outputs": [],
   "source": [
    "x = np.linspace(0,h,1000)\n",
    "interval0 = [1 if (i<h/2) else 0 for i in x]\n",
    "interval1 = [1 if (i>=h/2) else 0 for i in x]"
   ]
  },
  {
   "cell_type": "code",
   "execution_count": 38,
   "metadata": {},
   "outputs": [],
   "source": [
    "def Vx_air(y):\n",
    "    return C1*y*y/2 +A1*y +B1\n",
    "\n",
    "def Vx_water(y):\n",
    "    return C2*y*y/2 +A2*y #+B2"
   ]
  },
  {
   "cell_type": "code",
   "execution_count": 41,
   "metadata": {},
   "outputs": [
    {
     "data": {
      "text/plain": [
       "[<matplotlib.lines.Line2D at 0x1ee06c034c8>]"
      ]
     },
     "execution_count": 41,
     "metadata": {},
     "output_type": "execute_result"
    },
    {
     "data": {
      "image/png": "[encoded data removed]",
      "text/plain": [
       "<Figure size 432x288 with 1 Axes>"
      ]
     },
     "metadata": {
      "needs_background": "light"
     },
     "output_type": "display_data"
    }
   ],
   "source": [
    "y = interval0 * Vx_water(x) + interval1 * Vx_air(x)\n",
    "plt.plot(y,x)"
   ]
  },
  {
   "cell_type": "code",
   "execution_count": 40,
   "metadata": {},
   "outputs": [
    {
     "name": "stdout",
     "output_type": "stream",
     "text": [
      "0.11182299291652864 0.012311618034225747 755.5607629495179 1231.1618034225748\n"
     ]
    }
   ],
   "source": [
    "u_air = np.max(y[500:])\n",
    "u_water = np.max(y[0:500])\n",
    "Re_air = rho_air * u_air * h / miu_air\n",
    "Re_water = rho_water * u_water * h / miu_water\n",
    "print(u_air,u_water,Re_air,Re_water)"
   ]
  }
 ],
 "metadata": {
  "kernelspec": {
   "display_name": "OD",
   "language": "python",
   "name": "python3"
  },
  "language_info": {
   "codemirror_mode": {
    "name": "ipython",
    "version": 3
   },
   "file_extension": ".py",
   "mimetype": "text/x-python",
   "name": "python",
   "nbconvert_exporter": "python",
   "pygments_lexer": "ipython3",
   "version": "3.7.12 | packaged by conda-forge | (default, Oct 26 2021, 05:37:49) [MSC v.1916 64 bit (AMD64)]"
  },
  "orig_nbformat": 4,
  "vscode": {
   "interpreter": {
    "hash": "77c85ecd8caa74be40ec3fd08380d355bf1a1680daa8986b518221147a52d1b1"
   }
  }
 },
 "nbformat": 4,
 "nbformat_minor": 2
}
